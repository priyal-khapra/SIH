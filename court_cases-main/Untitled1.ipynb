{
 "cells": [
  {
   "cell_type": "code",
   "execution_count": 1,
   "id": "ef2f05fc",
   "metadata": {},
   "outputs": [
    {
     "data": {
      "text/html": [
       "<div>\n",
       "<style scoped>\n",
       "    .dataframe tbody tr th:only-of-type {\n",
       "        vertical-align: middle;\n",
       "    }\n",
       "\n",
       "    .dataframe tbody tr th {\n",
       "        vertical-align: top;\n",
       "    }\n",
       "\n",
       "    .dataframe thead th {\n",
       "        text-align: right;\n",
       "    }\n",
       "</style>\n",
       "<table border=\"1\" class=\"dataframe\">\n",
       "  <thead>\n",
       "    <tr style=\"text-align: right;\">\n",
       "      <th></th>\n",
       "      <th>Case_ID</th>\n",
       "      <th>no_of_hearings</th>\n",
       "      <th>no_of_advocates</th>\n",
       "      <th>no_of_issues</th>\n",
       "      <th>no_of_laws</th>\n",
       "      <th>no_of_precedents</th>\n",
       "      <th>Unnamed: 6</th>\n",
       "      <th>Unnamed: 7</th>\n",
       "      <th>Unnamed: 8</th>\n",
       "      <th>Unnamed: 9</th>\n",
       "      <th>Unnamed: 10</th>\n",
       "      <th>Unnamed: 11</th>\n",
       "      <th>Unnamed: 12</th>\n",
       "    </tr>\n",
       "  </thead>\n",
       "  <tbody>\n",
       "    <tr>\n",
       "      <th>0</th>\n",
       "      <td>C001</td>\n",
       "      <td>3</td>\n",
       "      <td>3</td>\n",
       "      <td>2</td>\n",
       "      <td>2</td>\n",
       "      <td>0</td>\n",
       "      <td>NaN</td>\n",
       "      <td>NaN</td>\n",
       "      <td>NaN</td>\n",
       "      <td>NaN</td>\n",
       "      <td>NaN</td>\n",
       "      <td>NaN</td>\n",
       "      <td>NaN</td>\n",
       "    </tr>\n",
       "    <tr>\n",
       "      <th>1</th>\n",
       "      <td>C002</td>\n",
       "      <td>4</td>\n",
       "      <td>3</td>\n",
       "      <td>3</td>\n",
       "      <td>3</td>\n",
       "      <td>0</td>\n",
       "      <td>NaN</td>\n",
       "      <td>NaN</td>\n",
       "      <td>NaN</td>\n",
       "      <td>NaN</td>\n",
       "      <td>NaN</td>\n",
       "      <td>NaN</td>\n",
       "      <td>NaN</td>\n",
       "    </tr>\n",
       "    <tr>\n",
       "      <th>2</th>\n",
       "      <td>C003</td>\n",
       "      <td>2</td>\n",
       "      <td>3</td>\n",
       "      <td>3</td>\n",
       "      <td>1</td>\n",
       "      <td>0</td>\n",
       "      <td>NaN</td>\n",
       "      <td>NaN</td>\n",
       "      <td>NaN</td>\n",
       "      <td>NaN</td>\n",
       "      <td>NaN</td>\n",
       "      <td>NaN</td>\n",
       "      <td>NaN</td>\n",
       "    </tr>\n",
       "    <tr>\n",
       "      <th>3</th>\n",
       "      <td>C004</td>\n",
       "      <td>4</td>\n",
       "      <td>3</td>\n",
       "      <td>3</td>\n",
       "      <td>2</td>\n",
       "      <td>0</td>\n",
       "      <td>NaN</td>\n",
       "      <td>NaN</td>\n",
       "      <td>NaN</td>\n",
       "      <td>NaN</td>\n",
       "      <td>NaN</td>\n",
       "      <td>NaN</td>\n",
       "      <td>NaN</td>\n",
       "    </tr>\n",
       "    <tr>\n",
       "      <th>4</th>\n",
       "      <td>C005</td>\n",
       "      <td>5</td>\n",
       "      <td>6</td>\n",
       "      <td>2</td>\n",
       "      <td>1</td>\n",
       "      <td>0</td>\n",
       "      <td>NaN</td>\n",
       "      <td>NaN</td>\n",
       "      <td>NaN</td>\n",
       "      <td>NaN</td>\n",
       "      <td>NaN</td>\n",
       "      <td>NaN</td>\n",
       "      <td>NaN</td>\n",
       "    </tr>\n",
       "    <tr>\n",
       "      <th>...</th>\n",
       "      <td>...</td>\n",
       "      <td>...</td>\n",
       "      <td>...</td>\n",
       "      <td>...</td>\n",
       "      <td>...</td>\n",
       "      <td>...</td>\n",
       "      <td>...</td>\n",
       "      <td>...</td>\n",
       "      <td>...</td>\n",
       "      <td>...</td>\n",
       "      <td>...</td>\n",
       "      <td>...</td>\n",
       "      <td>...</td>\n",
       "    </tr>\n",
       "    <tr>\n",
       "      <th>95</th>\n",
       "      <td>C096</td>\n",
       "      <td>3</td>\n",
       "      <td>6</td>\n",
       "      <td>2</td>\n",
       "      <td>20</td>\n",
       "      <td>0</td>\n",
       "      <td>NaN</td>\n",
       "      <td>NaN</td>\n",
       "      <td>NaN</td>\n",
       "      <td>NaN</td>\n",
       "      <td>NaN</td>\n",
       "      <td>NaN</td>\n",
       "      <td>NaN</td>\n",
       "    </tr>\n",
       "    <tr>\n",
       "      <th>96</th>\n",
       "      <td>C097</td>\n",
       "      <td>4</td>\n",
       "      <td>6</td>\n",
       "      <td>2</td>\n",
       "      <td>11</td>\n",
       "      <td>0</td>\n",
       "      <td>NaN</td>\n",
       "      <td>NaN</td>\n",
       "      <td>NaN</td>\n",
       "      <td>NaN</td>\n",
       "      <td>NaN</td>\n",
       "      <td>NaN</td>\n",
       "      <td>NaN</td>\n",
       "    </tr>\n",
       "    <tr>\n",
       "      <th>97</th>\n",
       "      <td>C098</td>\n",
       "      <td>20</td>\n",
       "      <td>5</td>\n",
       "      <td>3</td>\n",
       "      <td>9</td>\n",
       "      <td>0</td>\n",
       "      <td>NaN</td>\n",
       "      <td>NaN</td>\n",
       "      <td>NaN</td>\n",
       "      <td>NaN</td>\n",
       "      <td>NaN</td>\n",
       "      <td>NaN</td>\n",
       "      <td>NaN</td>\n",
       "    </tr>\n",
       "    <tr>\n",
       "      <th>98</th>\n",
       "      <td>C099</td>\n",
       "      <td>3</td>\n",
       "      <td>3</td>\n",
       "      <td>2</td>\n",
       "      <td>8</td>\n",
       "      <td>0</td>\n",
       "      <td>NaN</td>\n",
       "      <td>NaN</td>\n",
       "      <td>NaN</td>\n",
       "      <td>NaN</td>\n",
       "      <td>NaN</td>\n",
       "      <td>NaN</td>\n",
       "      <td>NaN</td>\n",
       "    </tr>\n",
       "    <tr>\n",
       "      <th>99</th>\n",
       "      <td>C100</td>\n",
       "      <td>3</td>\n",
       "      <td>4</td>\n",
       "      <td>3</td>\n",
       "      <td>5</td>\n",
       "      <td>0</td>\n",
       "      <td>NaN</td>\n",
       "      <td>NaN</td>\n",
       "      <td>NaN</td>\n",
       "      <td>NaN</td>\n",
       "      <td>NaN</td>\n",
       "      <td>NaN</td>\n",
       "      <td>NaN</td>\n",
       "    </tr>\n",
       "  </tbody>\n",
       "</table>\n",
       "<p>100 rows × 13 columns</p>\n",
       "</div>"
      ],
      "text/plain": [
       "   Case_ID  no_of_hearings  no_of_advocates  no_of_issues  no_of_laws  \\\n",
       "0     C001               3                3             2           2   \n",
       "1     C002               4                3             3           3   \n",
       "2     C003               2                3             3           1   \n",
       "3     C004               4                3             3           2   \n",
       "4     C005               5                6             2           1   \n",
       "..     ...             ...              ...           ...         ...   \n",
       "95    C096               3                6             2          20   \n",
       "96    C097               4                6             2          11   \n",
       "97    C098              20                5             3           9   \n",
       "98    C099               3                3             2           8   \n",
       "99    C100               3                4             3           5   \n",
       "\n",
       "    no_of_precedents  Unnamed: 6  Unnamed: 7  Unnamed: 8  Unnamed: 9  \\\n",
       "0                  0         NaN         NaN         NaN         NaN   \n",
       "1                  0         NaN         NaN         NaN         NaN   \n",
       "2                  0         NaN         NaN         NaN         NaN   \n",
       "3                  0         NaN         NaN         NaN         NaN   \n",
       "4                  0         NaN         NaN         NaN         NaN   \n",
       "..               ...         ...         ...         ...         ...   \n",
       "95                 0         NaN         NaN         NaN         NaN   \n",
       "96                 0         NaN         NaN         NaN         NaN   \n",
       "97                 0         NaN         NaN         NaN         NaN   \n",
       "98                 0         NaN         NaN         NaN         NaN   \n",
       "99                 0         NaN         NaN         NaN         NaN   \n",
       "\n",
       "    Unnamed: 10  Unnamed: 11  Unnamed: 12  \n",
       "0           NaN          NaN          NaN  \n",
       "1           NaN          NaN          NaN  \n",
       "2           NaN          NaN          NaN  \n",
       "3           NaN          NaN          NaN  \n",
       "4           NaN          NaN          NaN  \n",
       "..          ...          ...          ...  \n",
       "95          NaN          NaN          NaN  \n",
       "96          NaN          NaN          NaN  \n",
       "97          NaN          NaN          NaN  \n",
       "98          NaN          NaN          NaN  \n",
       "99          NaN          NaN          NaN  \n",
       "\n",
       "[100 rows x 13 columns]"
      ]
     },
     "execution_count": 1,
     "metadata": {},
     "output_type": "execute_result"
    }
   ],
   "source": [
    "import pandas as pd\n",
    "df = pd.read_csv(\"cases.csv\")\n",
    "df"
   ]
  },
  {
   "cell_type": "code",
   "execution_count": 2,
   "id": "b753d3ba",
   "metadata": {},
   "outputs": [],
   "source": [
    "X = df[[\"no_of_advocates\",\"no_of_issues\",\"no_of_laws\",\"no_of_precedents\"]]"
   ]
  },
  {
   "cell_type": "code",
   "execution_count": 3,
   "id": "7ad92fae",
   "metadata": {},
   "outputs": [],
   "source": [
    "y = df[\"no_of_hearings\"]"
   ]
  },
  {
   "cell_type": "code",
   "execution_count": 4,
   "id": "c4b68dee",
   "metadata": {},
   "outputs": [
    {
     "data": {
      "text/html": [
       "<div>\n",
       "<style scoped>\n",
       "    .dataframe tbody tr th:only-of-type {\n",
       "        vertical-align: middle;\n",
       "    }\n",
       "\n",
       "    .dataframe tbody tr th {\n",
       "        vertical-align: top;\n",
       "    }\n",
       "\n",
       "    .dataframe thead th {\n",
       "        text-align: right;\n",
       "    }\n",
       "</style>\n",
       "<table border=\"1\" class=\"dataframe\">\n",
       "  <thead>\n",
       "    <tr style=\"text-align: right;\">\n",
       "      <th></th>\n",
       "      <th>no_of_advocates</th>\n",
       "      <th>no_of_issues</th>\n",
       "      <th>no_of_laws</th>\n",
       "      <th>no_of_precedents</th>\n",
       "    </tr>\n",
       "  </thead>\n",
       "  <tbody>\n",
       "    <tr>\n",
       "      <th>0</th>\n",
       "      <td>3</td>\n",
       "      <td>2</td>\n",
       "      <td>2</td>\n",
       "      <td>0</td>\n",
       "    </tr>\n",
       "    <tr>\n",
       "      <th>1</th>\n",
       "      <td>3</td>\n",
       "      <td>3</td>\n",
       "      <td>3</td>\n",
       "      <td>0</td>\n",
       "    </tr>\n",
       "    <tr>\n",
       "      <th>2</th>\n",
       "      <td>3</td>\n",
       "      <td>3</td>\n",
       "      <td>1</td>\n",
       "      <td>0</td>\n",
       "    </tr>\n",
       "    <tr>\n",
       "      <th>3</th>\n",
       "      <td>3</td>\n",
       "      <td>3</td>\n",
       "      <td>2</td>\n",
       "      <td>0</td>\n",
       "    </tr>\n",
       "    <tr>\n",
       "      <th>4</th>\n",
       "      <td>6</td>\n",
       "      <td>2</td>\n",
       "      <td>1</td>\n",
       "      <td>0</td>\n",
       "    </tr>\n",
       "    <tr>\n",
       "      <th>...</th>\n",
       "      <td>...</td>\n",
       "      <td>...</td>\n",
       "      <td>...</td>\n",
       "      <td>...</td>\n",
       "    </tr>\n",
       "    <tr>\n",
       "      <th>95</th>\n",
       "      <td>6</td>\n",
       "      <td>2</td>\n",
       "      <td>20</td>\n",
       "      <td>0</td>\n",
       "    </tr>\n",
       "    <tr>\n",
       "      <th>96</th>\n",
       "      <td>6</td>\n",
       "      <td>2</td>\n",
       "      <td>11</td>\n",
       "      <td>0</td>\n",
       "    </tr>\n",
       "    <tr>\n",
       "      <th>97</th>\n",
       "      <td>5</td>\n",
       "      <td>3</td>\n",
       "      <td>9</td>\n",
       "      <td>0</td>\n",
       "    </tr>\n",
       "    <tr>\n",
       "      <th>98</th>\n",
       "      <td>3</td>\n",
       "      <td>2</td>\n",
       "      <td>8</td>\n",
       "      <td>0</td>\n",
       "    </tr>\n",
       "    <tr>\n",
       "      <th>99</th>\n",
       "      <td>4</td>\n",
       "      <td>3</td>\n",
       "      <td>5</td>\n",
       "      <td>0</td>\n",
       "    </tr>\n",
       "  </tbody>\n",
       "</table>\n",
       "<p>100 rows × 4 columns</p>\n",
       "</div>"
      ],
      "text/plain": [
       "    no_of_advocates  no_of_issues  no_of_laws  no_of_precedents\n",
       "0                 3             2           2                 0\n",
       "1                 3             3           3                 0\n",
       "2                 3             3           1                 0\n",
       "3                 3             3           2                 0\n",
       "4                 6             2           1                 0\n",
       "..              ...           ...         ...               ...\n",
       "95                6             2          20                 0\n",
       "96                6             2          11                 0\n",
       "97                5             3           9                 0\n",
       "98                3             2           8                 0\n",
       "99                4             3           5                 0\n",
       "\n",
       "[100 rows x 4 columns]"
      ]
     },
     "execution_count": 4,
     "metadata": {},
     "output_type": "execute_result"
    }
   ],
   "source": [
    "X"
   ]
  },
  {
   "cell_type": "code",
   "execution_count": 5,
   "id": "11c2a943",
   "metadata": {},
   "outputs": [
    {
     "data": {
      "text/plain": [
       "0      3\n",
       "1      4\n",
       "2      2\n",
       "3      4\n",
       "4      5\n",
       "      ..\n",
       "95     3\n",
       "96     4\n",
       "97    20\n",
       "98     3\n",
       "99     3\n",
       "Name: no_of_hearings, Length: 100, dtype: int64"
      ]
     },
     "execution_count": 5,
     "metadata": {},
     "output_type": "execute_result"
    }
   ],
   "source": [
    "y"
   ]
  },
  {
   "cell_type": "code",
   "execution_count": 6,
   "id": "3fd0ad0f",
   "metadata": {},
   "outputs": [],
   "source": [
    "from sklearn.model_selection import train_test_split"
   ]
  },
  {
   "cell_type": "code",
   "execution_count": 7,
   "id": "d16907d0",
   "metadata": {},
   "outputs": [],
   "source": [
    "train_X, test_X, train_y, test_y = train_test_split(X, y, \n",
    "                      test_size = 0.1, random_state = 123)"
   ]
  },
  {
   "cell_type": "code",
   "execution_count": 8,
   "id": "a6ffb857",
   "metadata": {},
   "outputs": [],
   "source": [
    "from sklearn.model_selection import StratifiedKFold\n",
    "import xgboost as xgb\n",
    "from sklearn.preprocessing import LabelEncoder\n",
    "from sklearn.model_selection import RandomizedSearchCV,GridSearchCV"
   ]
  },
  {
   "cell_type": "code",
   "execution_count": 9,
   "id": "6dffd1fa",
   "metadata": {},
   "outputs": [
    {
     "name": "stdout",
     "output_type": "stream",
     "text": [
      "Fitting 5 folds for each of 12 candidates, totalling 60 fits\n"
     ]
    },
    {
     "data": {
      "text/plain": [
       "GridSearchCV(estimator=XGBRegressor(base_score=None, booster=None,\n",
       "                                    callbacks=None, colsample_bylevel=None,\n",
       "                                    colsample_bynode=None,\n",
       "                                    colsample_bytree=None, device=None,\n",
       "                                    early_stopping_rounds=None,\n",
       "                                    enable_categorical=False, eval_metric=None,\n",
       "                                    feature_types=None, gamma=None,\n",
       "                                    grow_policy=None, importance_type=None,\n",
       "                                    interaction_constraints=None,\n",
       "                                    learning_rate=None, max_bi...\n",
       "                                    max_cat_to_onehot=None, max_delta_step=None,\n",
       "                                    max_depth=None, max_leaves=None,\n",
       "                                    min_child_weight=None, missing=nan,\n",
       "                                    monotone_constraints=None,\n",
       "                                    multi_strategy=None, n_estimators=None,\n",
       "                                    n_jobs=None, num_parallel_tree=None,\n",
       "                                    random_state=None, ...),\n",
       "             param_grid={'colsample_bytree': [1.0], 'max_depth': [3, 4, 6],\n",
       "                         'min_child_weight': [1.0, 1.2],\n",
       "                         'n_estimators': [500, 1000]},\n",
       "             verbose=1)"
      ]
     },
     "execution_count": 9,
     "metadata": {},
     "output_type": "execute_result"
    }
   ],
   "source": [
    "gbm = xgb.XGBRegressor()\n",
    "reg_cv = GridSearchCV(gbm, {\"colsample_bytree\":[1.0],\"min_child_weight\":[1.0,1.2]\n",
    "                            ,'max_depth': [3,4,6], 'n_estimators': [500,1000]}, verbose=1)\n",
    "reg_cv.fit(train_X,train_y)"
   ]
  },
  {
   "cell_type": "code",
   "execution_count": 10,
   "id": "01d9f853",
   "metadata": {},
   "outputs": [
    {
     "data": {
      "text/plain": [
       "{'colsample_bytree': 1.0,\n",
       " 'max_depth': 4,\n",
       " 'min_child_weight': 1.0,\n",
       " 'n_estimators': 500}"
      ]
     },
     "execution_count": 10,
     "metadata": {},
     "output_type": "execute_result"
    }
   ],
   "source": [
    "reg_cv.best_params_"
   ]
  },
  {
   "cell_type": "code",
   "execution_count": 11,
   "id": "7ed2ef84",
   "metadata": {},
   "outputs": [
    {
     "data": {
      "text/plain": [
       "XGBRegressor(base_score=None, booster=None, callbacks=None,\n",
       "             colsample_bylevel=None, colsample_bynode=None,\n",
       "             colsample_bytree=1.0, device=None, early_stopping_rounds=None,\n",
       "             enable_categorical=False, eval_metric=None, feature_types=None,\n",
       "             gamma=None, grow_policy=None, importance_type=None,\n",
       "             interaction_constraints=None, learning_rate=None, max_bin=None,\n",
       "             max_cat_threshold=None, max_cat_to_onehot=None,\n",
       "             max_delta_step=None, max_depth=4, max_leaves=None,\n",
       "             min_child_weight=1.0, missing=nan, monotone_constraints=None,\n",
       "             multi_strategy=None, n_estimators=500, n_jobs=None,\n",
       "             num_parallel_tree=None, random_state=None, ...)"
      ]
     },
     "execution_count": 11,
     "metadata": {},
     "output_type": "execute_result"
    }
   ],
   "source": [
    "gbm = xgb.XGBRegressor(**reg_cv.best_params_)\n",
    "gbm.fit(train_X,train_y)"
   ]
  },
  {
   "cell_type": "code",
   "execution_count": 12,
   "id": "75f578c0",
   "metadata": {},
   "outputs": [
    {
     "data": {
      "text/plain": [
       "array([ 3.2332668,  2.6238482, 15.747566 ,  4.520479 ,  7.983972 ,\n",
       "       10.543372 , 25.563702 , 19.460897 ,  3.0026367,  5.8769093],\n",
       "      dtype=float32)"
      ]
     },
     "execution_count": 12,
     "metadata": {},
     "output_type": "execute_result"
    }
   ],
   "source": [
    "predictions = gbm.predict(test_X)\n",
    "predictions"
   ]
  },
  {
   "cell_type": "code",
   "execution_count": 13,
   "id": "a2843306",
   "metadata": {},
   "outputs": [
    {
     "data": {
      "text/plain": [
       "0.1451962221954637"
      ]
     },
     "execution_count": 13,
     "metadata": {},
     "output_type": "execute_result"
    }
   ],
   "source": [
    "gbm.score(test_X,test_y)"
   ]
  },
  {
   "cell_type": "code",
   "execution_count": 14,
   "id": "f3b581df",
   "metadata": {},
   "outputs": [
    {
     "data": {
      "text/plain": [
       "0.9978153440058616"
      ]
     },
     "execution_count": 14,
     "metadata": {},
     "output_type": "execute_result"
    }
   ],
   "source": [
    "gbm.score(train_X,train_y)"
   ]
  },
  {
   "cell_type": "code",
   "execution_count": 15,
   "id": "e6f37d63",
   "metadata": {},
   "outputs": [],
   "source": [
    "import numpy as np"
   ]
  },
  {
   "cell_type": "code",
   "execution_count": 16,
   "id": "1d496b03",
   "metadata": {},
   "outputs": [
    {
     "name": "stdout",
     "output_type": "stream",
     "text": [
      "r2 :  0.381046\n"
     ]
    }
   ],
   "source": [
    "from sklearn.metrics import r2_score\n",
    "r2 = np.sqrt(r2_score(test_y, predictions))\n",
    "print(\"r2 : % f\" %(r2))"
   ]
  },
  {
   "cell_type": "code",
   "execution_count": 17,
   "id": "4a29634d",
   "metadata": {},
   "outputs": [],
   "source": [
    "new_data = [40,10,1,7]"
   ]
  },
  {
   "cell_type": "code",
   "execution_count": 18,
   "id": "5e287987",
   "metadata": {},
   "outputs": [],
   "source": [
    "new_data_arr = np.asarray([new_data])"
   ]
  },
  {
   "cell_type": "code",
   "execution_count": 19,
   "id": "f6d4f8bb",
   "metadata": {},
   "outputs": [
    {
     "data": {
      "text/plain": [
       "array([21.913065], dtype=float32)"
      ]
     },
     "execution_count": 19,
     "metadata": {},
     "output_type": "execute_result"
    }
   ],
   "source": [
    "yhat = gbm.predict(new_data_arr)\n",
    "yhat"
   ]
  },
  {
   "cell_type": "code",
   "execution_count": 20,
   "id": "f5f8f217",
   "metadata": {},
   "outputs": [],
   "source": [
    "new_data = [40,10,1,7]"
   ]
  },
  {
   "cell_type": "code",
   "execution_count": 21,
   "id": "64403d15",
   "metadata": {},
   "outputs": [],
   "source": [
    "new_data_arr = np.asarray([new_data])"
   ]
  },
  {
   "cell_type": "code",
   "execution_count": 22,
   "id": "f1a39001",
   "metadata": {},
   "outputs": [
    {
     "data": {
      "text/plain": [
       "array([21.913065], dtype=float32)"
      ]
     },
     "execution_count": 22,
     "metadata": {},
     "output_type": "execute_result"
    }
   ],
   "source": [
    "yhat = gbm.predict(new_data_arr)\n",
    "yhat"
   ]
  },
  {
   "cell_type": "code",
   "execution_count": 23,
   "id": "41df5fb7",
   "metadata": {},
   "outputs": [],
   "source": [
    "new_data = [14,3,27,0]"
   ]
  },
  {
   "cell_type": "code",
   "execution_count": 24,
   "id": "915ad4ba",
   "metadata": {},
   "outputs": [],
   "source": [
    "new_data_arr = np.asarray([new_data])"
   ]
  },
  {
   "cell_type": "code",
   "execution_count": 25,
   "id": "8a1db43d",
   "metadata": {},
   "outputs": [
    {
     "data": {
      "text/plain": [
       "array([5.000422], dtype=float32)"
      ]
     },
     "execution_count": 25,
     "metadata": {},
     "output_type": "execute_result"
    }
   ],
   "source": [
    "yhat = gbm.predict(new_data_arr)\n",
    "yhat"
   ]
  },
  {
   "cell_type": "code",
   "execution_count": 26,
   "id": "2aa9da0a",
   "metadata": {},
   "outputs": [],
   "source": [
    "new_data = [2,3,3,1]"
   ]
  },
  {
   "cell_type": "code",
   "execution_count": 27,
   "id": "d3e57f20",
   "metadata": {},
   "outputs": [],
   "source": [
    "new_data_arr = np.asarray([new_data])"
   ]
  },
  {
   "cell_type": "code",
   "execution_count": 28,
   "id": "5b54ffa9",
   "metadata": {},
   "outputs": [
    {
     "data": {
      "text/plain": [
       "array([8.999895], dtype=float32)"
      ]
     },
     "execution_count": 28,
     "metadata": {},
     "output_type": "execute_result"
    }
   ],
   "source": [
    "yhat = gbm.predict(new_data_arr)\n",
    "yhat"
   ]
  },
  {
   "cell_type": "code",
   "execution_count": 29,
   "id": "73a4d62e",
   "metadata": {},
   "outputs": [],
   "source": [
    "df[\"case_complexity\"] = df[\"no_of_issues\"]+df[\"no_of_laws\"]+df[\"no_of_precedents\"]"
   ]
  },
  {
   "cell_type": "code",
   "execution_count": 30,
   "id": "6092cc39",
   "metadata": {},
   "outputs": [],
   "source": [
    "mean = df[\"case_complexity\"].mean()"
   ]
  },
  {
   "cell_type": "code",
   "execution_count": 31,
   "id": "b210f207",
   "metadata": {},
   "outputs": [],
   "source": [
    "df[\"complexity_by_mean\"] = df[\"case_complexity\"]/mean"
   ]
  },
  {
   "cell_type": "code",
   "execution_count": 38,
   "id": "f5e1d988",
   "metadata": {},
   "outputs": [
    {
     "data": {
      "text/plain": [
       "count    100.000000\n",
       "mean      12.430000\n",
       "std       11.666455\n",
       "min        1.000000\n",
       "25%        5.000000\n",
       "50%        8.000000\n",
       "75%       15.000000\n",
       "max       73.000000\n",
       "Name: case_complexity, dtype: float64"
      ]
     },
     "execution_count": 38,
     "metadata": {},
     "output_type": "execute_result"
    }
   ],
   "source": [
    "df[\"case_complexity\"].describe()"
   ]
  },
  {
   "cell_type": "code",
   "execution_count": 44,
   "id": "ac64c22a",
   "metadata": {},
   "outputs": [],
   "source": [
    "df[\"normalised\"] = ((df[\"case_complexity\"]-1.000000)*6)/(73.000000-1)"
   ]
  },
  {
   "cell_type": "code",
   "execution_count": 45,
   "id": "ef8cbe65",
   "metadata": {},
   "outputs": [
    {
     "data": {
      "text/plain": [
       "count    100.000000\n",
       "mean       0.952500\n",
       "std        0.972205\n",
       "min        0.000000\n",
       "25%        0.333333\n",
       "50%        0.583333\n",
       "75%        1.166667\n",
       "max        6.000000\n",
       "Name: normalised, dtype: float64"
      ]
     },
     "execution_count": 45,
     "metadata": {},
     "output_type": "execute_result"
    }
   ],
   "source": [
    "df[\"normalised\"].describe()"
   ]
  },
  {
   "cell_type": "code",
   "execution_count": 46,
   "id": "3bc7fc5a",
   "metadata": {},
   "outputs": [
    {
     "data": {
      "text/plain": [
       "0     0.250000\n",
       "1     0.416667\n",
       "2     0.250000\n",
       "3     0.333333\n",
       "4     0.166667\n",
       "        ...   \n",
       "95    1.750000\n",
       "96    1.000000\n",
       "97    0.916667\n",
       "98    0.750000\n",
       "99    0.583333\n",
       "Name: normalised, Length: 100, dtype: float64"
      ]
     },
     "execution_count": 46,
     "metadata": {},
     "output_type": "execute_result"
    }
   ],
   "source": [
    "df[\"normalised\"]"
   ]
  },
  {
   "cell_type": "code",
   "execution_count": 32,
   "id": "22e0aeb8",
   "metadata": {},
   "outputs": [],
   "source": [
    "import pickle\n",
    "pickle_out= open(\"cases.pkl\",\"wb\")\n",
    "pickle.dump(gbm,pickle_out)\n",
    "pickle_out.close()"
   ]
  },
  {
   "cell_type": "code",
   "execution_count": 33,
   "id": "59357c60",
   "metadata": {},
   "outputs": [],
   "source": [
    "import pickle \n",
    "filename = 'cases.sav'\n",
    "pickle.dump(gbm,open(filename , 'wb'))"
   ]
  },
  {
   "cell_type": "code",
   "execution_count": 34,
   "id": "940cd980",
   "metadata": {},
   "outputs": [],
   "source": [
    "loaded_model = pickle.load(open('cases.sav','rb'))"
   ]
  },
  {
   "cell_type": "code",
   "execution_count": 35,
   "id": "c0e61652",
   "metadata": {},
   "outputs": [
    {
     "name": "stdout",
     "output_type": "stream",
     "text": [
      "1.5\n",
      "[21.913065]\n"
     ]
    }
   ],
   "source": [
    "input_data = (40,10,1,7)\n",
    "inp_as_nparr = np.asarray(input_data)\n",
    "input_data_reshaped = inp_as_nparr.reshape(1,-1)\n",
    "prediction = loaded_model.predict(input_data_reshaped)\n",
    "complexity = (input_data[1]+input_data[2]+input_data[3])/12\n",
    "print(complexity)\n",
    "print(prediction)"
   ]
  },
  {
   "cell_type": "code",
   "execution_count": 36,
   "id": "06284a0a",
   "metadata": {},
   "outputs": [
    {
     "data": {
      "text/plain": [
       "Index(['no_of_advocates', 'no_of_issues', 'no_of_laws', 'no_of_precedents'], dtype='object')"
      ]
     },
     "execution_count": 36,
     "metadata": {},
     "output_type": "execute_result"
    }
   ],
   "source": [
    "X.columns"
   ]
  },
  {
   "cell_type": "code",
   "execution_count": null,
   "id": "5170f6b5",
   "metadata": {},
   "outputs": [],
   "source": []
  }
 ],
 "metadata": {
  "kernelspec": {
   "display_name": "Python 3 (ipykernel)",
   "language": "python",
   "name": "python3"
  },
  "language_info": {
   "codemirror_mode": {
    "name": "ipython",
    "version": 3
   },
   "file_extension": ".py",
   "mimetype": "text/x-python",
   "name": "python",
   "nbconvert_exporter": "python",
   "pygments_lexer": "ipython3",
   "version": "3.9.13"
  }
 },
 "nbformat": 4,
 "nbformat_minor": 5
}
